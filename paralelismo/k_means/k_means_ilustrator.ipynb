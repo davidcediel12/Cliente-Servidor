{
 "cells": [
  {
   "cell_type": "markdown",
   "metadata": {},
   "source": [
    "# Implementacion inicial de k means\n",
    "\n",
    "### En esta implementacion para hacerlo mas grafico se trabaja siempre con 3 clusters y dos dimensiones"
   ]
  },
  {
   "cell_type": "code",
   "execution_count": 4,
   "metadata": {},
   "outputs": [],
   "source": [
    "from sklearn.datasets import make_blobs\n",
    "import numpy as np \n",
    "import matplotlib.pyplot as plt "
   ]
  },
  {
   "cell_type": "code",
   "execution_count": 5,
   "metadata": {},
   "outputs": [],
   "source": [
    "x, y = make_blobs(n_samples = 1000)"
   ]
  },
  {
   "cell_type": "markdown",
   "metadata": {},
   "source": [
    "### Divide Data \n",
    "Dividimos el data set en los clusters dependiendo del valor de x"
   ]
  },
  {
   "cell_type": "code",
   "execution_count": 6,
   "metadata": {},
   "outputs": [],
   "source": [
    "def divideData(x, y):\n",
    "    x1 = np.array([x[i, :] for i in range(x.shape[0]) if y[i] == 0])\n",
    "    x2 = np.array([x[i, :] for i in range(x.shape[0]) if y[i] == 1])\n",
    "    x3 = np.array([x[i, :] for i in range(x.shape[0]) if y[i] == 2])\n",
    "    return x1, x2, x3"
   ]
  },
  {
   "cell_type": "markdown",
   "metadata": {},
   "source": [
    "### Funcion para enseñar el dataset o para enseñar el movimiento de los centroides y el cambio de color de los puntos"
   ]
  },
  {
   "cell_type": "code",
   "execution_count": 7,
   "metadata": {},
   "outputs": [
    {
     "data": {
      "image/png": "[encoded data removed]",
      "text/plain": [
       "<Figure size 432x288 with 1 Axes>"
      ]
     },
     "metadata": {
      "needs_background": "light"
     },
     "output_type": "display_data"
    }
   ],
   "source": [
    "def show(x1, x2, x3, centroids = None):\n",
    "    if x1.shape[0] != 0:\n",
    "        plt.scatter(x1[:, 0], x1[:, 1], c=\"red\", label = \"c1\")\n",
    "    if x2.shape[0] != 0:\n",
    "        plt.scatter(x2[:, 0], x2[:, 1], c=\"blue\", label = \"c2\")\n",
    "    if x2.shape[0] != 0:\n",
    "        plt.scatter(x3[:, 0], x3[:, 1], c=\"green\", label = \"c3\")\n",
    "    if centroids is not None:\n",
    "        plt.scatter(centroids[0, 0], centroids[0, 1], c=\"salmon\", marker = \"D\", linewidths=5) \n",
    "        plt.scatter(centroids[1, 0], centroids[1, 1], c=\"cyan\", marker = \"D\", linewidths=5) \n",
    "        plt.scatter(centroids[2, 0], centroids[2, 1], c=\"lime\", marker = \"D\", linewidths=5)\n",
    "    plt.legend()\n",
    "    plt.show()\n",
    "x1, x2, x3 = divideData(x, y)\n",
    "show(x1, x2, x3)"
   ]
  },
  {
   "cell_type": "markdown",
   "metadata": {},
   "source": [
    "### Algoritmo k means \n",
    "\n",
    "Primero asignamos los datos al centroide, luego movemos el centroide de lugar y \n",
    "repetimos esto hasta que no se perciba ningun cambio"
   ]
  },
  {
   "cell_type": "code",
   "execution_count": 70,
   "metadata": {},
   "outputs": [],
   "source": [
    "from scipy.spatial import distance\n",
    "from IPython.display import clear_output\n",
    "import time\n",
    "\n",
    "def calculateDistanceAndAssign(data, centroids):\n",
    "    y = np.zeros(data.shape[0])\n",
    "    for i, d in enumerate(data):\n",
    "        y[i] = np.argmin(np.array([distance.euclidean(d, centroid) for centroid in centroids]))\n",
    "    return y\n",
    "\n",
    "def moveCentroid(x1, x2, x3):\n",
    "    centroids = np.zeros((3, x1.shape[1]))\n",
    "    centroids[0] = np.average(x1, axis = 0)\n",
    "    centroids[1] = np.average(x2, axis = 0)\n",
    "    centroids[2] = np.average(x3, axis = 0)\n",
    "    return centroids\n",
    "    \n",
    "def k_means_2d(data, n_clusters):\n",
    "    min_x = np.min(data[:, 0])\n",
    "    max_x = np.max(data[:, 0])\n",
    "    \n",
    "    min_y = np.min(data[:, 1])\n",
    "    max_y = np.max(data[:, 1])\n",
    "    \n",
    "    \n",
    "    centroids = np.column_stack((\n",
    "                np.random.uniform(low = min_x, high = max_x, size= (3,)),\n",
    "                np.random.uniform(low = min_y, high = max_y, size= (3,))\n",
    "                ))\n",
    "    \n",
    "    y = np.zeros(data.shape[0])\n",
    "    changing = True\n",
    "    while changing:\n",
    "        y_new = calculateDistanceAndAssign(data, centroids)\n",
    "        if np.array_equal(y, y_new):\n",
    "           changing = False\n",
    "        else:\n",
    "            y = y_new\n",
    "            print(y.shape)\n",
    "            x1, x2, x3 = divideData(data, y)\n",
    "            while x1.shape[0] == 0 or x2.shape[0] == 0 or x3.shape[0] == 0:\n",
    "                print(\"empty_cluster!\")\n",
    "                centroids = np.column_stack((\n",
    "                np.random.uniform(low = min_x, high = max_x, size= (3,)),\n",
    "                np.random.uniform(low = min_y, high = max_y, size= (3,))\n",
    "                ))\n",
    "                y = calculateDistanceAndAssign(data, centroids)\n",
    "                x1, x2, x3 = divideData(data, y)\n",
    "                    \n",
    "\n",
    "                    \n",
    "            show(x1, x2, x3, centroids = centroids)\n",
    "\n",
    "            \n",
    "            clear_output(wait = True)\n",
    "            time.sleep(0.5)\n",
    "        centroids = moveCentroid(x1, x2, x3)\n",
    "    show(x1, x2, x3, centroids = centroids)\n",
    "  \n"
   ]
  },
  {
   "cell_type": "code",
   "execution_count": 51,
   "metadata": {},
   "outputs": [
    {
     "data": {
      "image/png": "[encoded data removed]",
      "text/plain": [
       "<Figure size 432x288 with 1 Axes>"
      ]
     },
     "metadata": {
      "needs_background": "light"
     },
     "output_type": "display_data"
    }
   ],
   "source": [
    "x, y = make_blobs(n_samples = 50)  \n",
    "x1, x2, x3 = divideData(x, y)\n",
    "show(x1, x2, x3)"
   ]
  },
  {
   "cell_type": "code",
   "execution_count": 72,
   "metadata": {},
   "outputs": [
    {
     "data": {
      "image/png": "[encoded data removed]",
      "text/plain": [
       "<Figure size 432x288 with 1 Axes>"
      ]
     },
     "metadata": {
      "needs_background": "light"
     },
     "output_type": "display_data"
    }
   ],
   "source": [
    "k_means_2d(x, 3)"
   ]
  },
  {
   "cell_type": "code",
   "execution_count": 11,
   "metadata": {},
   "outputs": [],
   "source": [
    "#\n",
    "#\n",
    "#\n",
    "#\n",
    "#\n",
    "#\n",
    "#\n",
    "#\n",
    "#\n",
    "#\n",
    "#\n",
    "#"
   ]
  }
 ],
 "metadata": {
  "kernelspec": {
   "display_name": "Python 3",
   "language": "python",
   "name": "python3"
  },
  "language_info": {
   "codemirror_mode": {
    "name": "ipython",
    "version": 3
   },
   "file_extension": ".py",
   "mimetype": "text/x-python",
   "name": "python",
   "nbconvert_exporter": "python",
   "pygments_lexer": "ipython3",
   "version": "3.7.4"
  }
 },
 "nbformat": 4,
 "nbformat_minor": 2
}
