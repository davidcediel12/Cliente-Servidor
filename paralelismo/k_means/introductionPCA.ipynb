{
 "cells": [
  {
   "cell_type": "markdown",
   "metadata": {},
   "source": [
    "# Análisis de componentes principales (PCA)\n",
    "\n",
    "PCA es usado para reducir el número de variables de un problema, es decir, reducir la dimensionalidad, esto se hace construyendo una  matriz de covarianza\n",
    "\n",
    "Para construir esta matriz primero se estandarizan los datos (si es necesario), y luego la matriz resultante, por ejemplo $ Z $\n",
    "se multiplica por su transpuesta \n",
    "\n",
    "$ covmatrix = ZZ^T$\n",
    "\n",
    "Esta matriz de covarianza la podemos representar con eigenvalores y eigenvectores, luego se realizan otras operaciones para tener la matriz final \n",
    "\n",
    "Las ventajas que tenemos son:\n",
    "* Reducimos la complejidad\n",
    "* Evitamos el sobreentrenamiento \n",
    "* Nos menciona que tan relacionada esta una variable con otra \n",
    "\n",
    "### Se realizará una prueba para ver como funciona"
   ]
  },
  {
   "cell_type": "code",
   "execution_count": 1,
   "metadata": {},
   "outputs": [],
   "source": [
    "from sklearn.datasets import load_wine, load_iris, make_blobs\n",
    "import numpy as np\n",
    "import pandas as pd\n",
    "import matplotlib.pyplot as plt \n",
    "from sklearn.decomposition import PCA"
   ]
  },
  {
   "cell_type": "markdown",
   "metadata": {},
   "source": [
    "#### Creamos un dataset de juguete pa probar"
   ]
  },
  {
   "cell_type": "code",
   "execution_count": 2,
   "metadata": {},
   "outputs": [],
   "source": [
    "x, y = make_blobs(centers=10, n_samples=5000, n_features=100)"
   ]
  },
  {
   "cell_type": "markdown",
   "metadata": {},
   "source": [
    "#### Con el variance ratio nos dice cuanta información tiene cada componente principal, entonces podemos sumar estos hasta  llegar a un porcentaje aceptable de información"
   ]
  },
  {
   "cell_type": "code",
   "execution_count": 3,
   "metadata": {},
   "outputs": [
    {
     "name": "stdout",
     "output_type": "stream",
     "text": [
      "Suma de las PCA para saber cuanta información tienen: \n",
      " [0.1492709362041403, 0.2894195602171052, 0.42558584702004393, 0.5534855396543777, 0.6562553509218308, 0.7503565414119009, 0.8343524535995124, 0.9142489952612682, 0.9714806496261547, 0.9718790440753258]\n"
     ]
    }
   ],
   "source": [
    "pca = PCA()\n",
    "x_pca = pca.fit_transform(x)\n",
    "x_pca.shape\n",
    "variance = pca.explained_variance_ratio_\n",
    "cumulative_ratio = [variance[0]]\n",
    "for i in range(1, len(variance)):\n",
    "    cumulative_ratio.append(cumulative_ratio[i-1] + variance[i])\n",
    "\n",
    "print(\"Suma de las PCA para saber cuanta información tienen: \\n\", cumulative_ratio[:10])"
   ]
  },
  {
   "cell_type": "markdown",
   "metadata": {},
   "source": [
    "Con estos resultados vemos que con 10 componentes principales ya representamos el 97% de la información, no necesitamos más "
   ]
  },
  {
   "cell_type": "markdown",
   "metadata": {},
   "source": [
    "##### Creamos una máquina de vectores de soporte y la entrenamos con todos las dimensiones pa ver como se comporta "
   ]
  },
  {
   "cell_type": "code",
   "execution_count": 4,
   "metadata": {},
   "outputs": [],
   "source": [
    "from sklearn.model_selection import train_test_split\n",
    "X_train, X_test, y_train, y_test = train_test_split(x, y, test_size=0.3, random_state = 42)"
   ]
  },
  {
   "cell_type": "code",
   "execution_count": 5,
   "metadata": {},
   "outputs": [
    {
     "data": {
      "text/plain": [
       "SVC(C=1.0, cache_size=200, class_weight=None, coef0=0.0,\n",
       "    decision_function_shape='ovr', degree=3, gamma='auto', kernel='rbf',\n",
       "    max_iter=-1, probability=False, random_state=None, shrinking=True,\n",
       "    tol=0.001, verbose=False)"
      ]
     },
     "execution_count": 5,
     "metadata": {},
     "output_type": "execute_result"
    }
   ],
   "source": [
    "from sklearn.svm import SVC\n",
    "\n",
    "clf = SVC(gamma='auto')\n",
    "clf.fit(X_train, y_train)"
   ]
  },
  {
   "cell_type": "code",
   "execution_count": 6,
   "metadata": {},
   "outputs": [
    {
     "name": "stdout",
     "output_type": "stream",
     "text": [
      "Acc train: 1.0\n",
      "Acc test: 1.0\n"
     ]
    }
   ],
   "source": [
    "from sklearn.metrics import accuracy_score \n",
    "y_train_pred = clf.predict(X_train)\n",
    "y_test_pred = clf.predict(X_test)\n",
    "print(\"Acc train:\", accuracy_score(y_train, y_train_pred))\n",
    "print(\"Acc test:\",  accuracy_score(y_test, y_test_pred))"
   ]
  },
  {
   "cell_type": "markdown",
   "metadata": {},
   "source": [
    "##### Ahora lo entrenamos con  PCA  a ver como le va"
   ]
  },
  {
   "cell_type": "code",
   "execution_count": 7,
   "metadata": {},
   "outputs": [],
   "source": [
    "pca = PCA(n_components=1)\n",
    "\n",
    "pca.fit(x)\n",
    "X_pca= pca.transform(x)\n",
    "X_train_pca, X_test_pca, y_train, y_test = train_test_split(X_pca, y, test_size=0.3, random_state = 42)"
   ]
  },
  {
   "cell_type": "code",
   "execution_count": 8,
   "metadata": {},
   "outputs": [
    {
     "data": {
      "text/plain": [
       "SVC(C=1.0, cache_size=200, class_weight=None, coef0=0.0,\n",
       "    decision_function_shape='ovr', degree=3, gamma='auto', kernel='rbf',\n",
       "    max_iter=-1, probability=False, random_state=None, shrinking=True,\n",
       "    tol=0.001, verbose=False)"
      ]
     },
     "execution_count": 8,
     "metadata": {},
     "output_type": "execute_result"
    }
   ],
   "source": [
    "clf = SVC(gamma='auto')\n",
    "clf.fit(X_train_pca, y_train)"
   ]
  },
  {
   "cell_type": "code",
   "execution_count": 9,
   "metadata": {},
   "outputs": [
    {
     "name": "stdout",
     "output_type": "stream",
     "text": [
      "Acc train: 0.8525714285714285\n",
      "Acc test: 0.8593333333333333\n"
     ]
    }
   ],
   "source": [
    "y_train_pred_pca = clf.predict(X_train_pca)\n",
    "y_test_pred_pca = clf.predict(X_test_pca)\n",
    "print(\"Acc train:\", accuracy_score(y_train, y_train_pred_pca))\n",
    "print(\"Acc test:\",  accuracy_score(y_test, y_test_pred_pca))"
   ]
  }
 ],
 "metadata": {
  "kernelspec": {
   "display_name": "Python 3",
   "language": "python",
   "name": "python3"
  },
  "language_info": {
   "codemirror_mode": {
    "name": "ipython",
    "version": 3
   },
   "file_extension": ".py",
   "mimetype": "text/x-python",
   "name": "python",
   "nbconvert_exporter": "python",
   "pygments_lexer": "ipython3",
   "version": "3.7.4"
  }
 },
 "nbformat": 4,
 "nbformat_minor": 2
}
